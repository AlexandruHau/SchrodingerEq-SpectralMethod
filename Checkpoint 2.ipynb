{
 "cells": [
  {
   "cell_type": "markdown",
   "metadata": {
    "nbgrader": {
     "grade": "false",
     "grade_id": "grade",
     "locked": "false",
     "schema_version": 1,
     "solution": "false"
    }
   },
   "source": [
    "# Mark: 81\n",
    "\n",
    "### Notes: Good work overall. Answers qualitatively correct for the most part, but the number of eigenvalues used is often not sufficient to obtain the solutions to the right numerical accuracy. Code is generally well written, with only minor issues.\n",
    "\n",
    "### Task 1: 25/25\n",
    "Good work.\n",
    "\n",
    "### Task 2: 5/5\n",
    "Good work.\n",
    "\n",
    "### Task 3: 19/20\n",
    "Good work; there's just a small mistake in the definition of the Gaussian, missing out a factor of 0.5; adding this fixes the shapes of the wavefunctions to the correct ones (though it doesn't affect the mean in this task).\n",
    "\n",
    "### Task 4: 5/10\n",
    "The potential looks largely correct, but using integer arithetic to obtain it is not the most practical method to obtain it in the code. It is also best done on the same spatial grid as before since the points look rather coarse, making the edges look not as steep as they should.\n",
    "Otherwise, a good attempt on the wavefunction calculation, but missing a calculation of the mean. Adding the snippet of code used previously gives a mean of around 55.2, which is close but not quite correct. This is likely because the number of eigenvalues used is not sufficient.\n",
    "\n",
    "### Task 5: 14/15\n",
    "A good attempt; the calculated value is close but not quite correct, likely because of the initial condition and a fairly large timestep for the time integration. This timestep can be reduced a fair amount because the spectral method makes it computationally cheap to calculate solutions at arbitrary times.\n",
    "\n",
    "### Task 6: 11/15\n",
    "The plot looks qualitatively correct, but the timestep is not sufficiently small to obtain numerically accurate answers for the time integration of the current.\n",
    "\n",
    "### Task 7: 2/10\n",
    "Unfortunately the probability is too high, which is because the potential created is not truly disordered. Each realisation of the potential should have a random width for each i=0,1,...,100 rather than a single random width for all of them. Such a disordered potential would lead to a much smaller probability, which is due to localisation."
   ]
  },
  {
   "cell_type": "markdown",
   "metadata": {
    "deletable": false,
    "editable": false,
    "nbgrader": {
     "cell_type": "markdown",
     "checksum": "ef563c69f70e4508d5d2186248842296",
     "grade": false,
     "grade_id": "header",
     "locked": true,
     "schema_version": 3,
     "solution": false,
     "task": false
    }
   },
   "source": [
    "# Checkpoint 2\n",
    "\n",
    "**Due: Friday, 6 November, 2020 at 5:00pm GMT**\n",
    "\n",
    "### Read This First\n",
    "1. Use the constants provided in the cell below. Do not use your own constants.\n",
    "\n",
    "2. Put the code that produces the output for a given task in the cell indicated. You are welcome to add as many cells as you like for imports, function definitions, variables, etc. **Additional cells need to be in the proper order such that your code runs correctly the first time through.**\n",
    "\n",
    "3. **IMPORTANT!** Before submitting your notebook, clear the output by clicking *Restart & Clear Output* from the *Kernel* menu. If you do not do this, the file size of your notebook will be very large."
   ]
  },
  {
   "cell_type": "code",
   "execution_count": 60,
   "metadata": {},
   "outputs": [],
   "source": [
    "import matplotlib.pyplot as plt\n",
    "%matplotlib inline\n",
    "import numpy as np\n",
    "import time\n",
    "\n",
    "from scipy.sparse.linalg import eigsh\n",
    "from scipy.sparse.linalg import spsolve\n",
    "from scipy.sparse import diags\n",
    "from scipy.sparse import identity\n",
    "from scipy.linalg import eigh_tridiagonal\n",
    "import scipy.integrate\n",
    "\n",
    "plt.rcParams['figure.figsize'] = (10, 6)\n",
    "plt.rcParams['font.size'] = 16"
   ]
  },
  {
   "cell_type": "markdown",
   "metadata": {
    "deletable": false,
    "editable": false,
    "nbgrader": {
     "cell_type": "markdown",
     "checksum": "97fb576f81dbdf14d16161118c8478ee",
     "grade": false,
     "grade_id": "section-task1",
     "locked": true,
     "schema_version": 3,
     "solution": false,
     "task": false
    }
   },
   "source": [
    "# Task 1 (25p)\n",
    "\n",
    "Find numerically the first 101 lowest eigenvalues (“energies”) of the discrete Hamiltonian matrix, H, for V=0 and x=0,...,L, with L=100, dx=1/8 and with reflecting boundary conditions:\n",
    "\n",
    "$\n",
    "\\begin{align}\n",
    "\\psi_N \\equiv \\psi_{N-1},\n",
    "\\end{align}\n",
    "$\n",
    "\n",
    "$\n",
    "\\begin{align}\n",
    "\\psi_{-1} \\equiv \\psi_0,\n",
    "\\end{align}\n",
    "$\n",
    "\n",
    "Here the index -1 denotes the element to the left of the element zero, not the element N-1 as in Python. Note that indices $-1, N$ refer to elements of $\\psi$ that are outside the matrix H.\n",
    "\n",
    "Hint: The eigenvalues, $w_n$, should be\n",
    "\n",
    "$\n",
    "\\large\n",
    "\\begin{align}\n",
    "w_n = \\frac{2\\left(1 - \\cos (\\frac{n \\pi}{N}) \\right)}{dx^2}\n",
    "\\end{align}\n",
    "$\n",
    "\n",
    "for n=0, 1,..., 100. The corresponding (non-normalized) eigenvectors, $v_n$ are\n",
    "\n",
    "$\n",
    "\\large\n",
    "\\begin{align}\n",
    "v_n = \\cos \\left( \\frac{n \\pi x}{L} \\right)\n",
    "\\end{align}\n",
    "$\n",
    "\n",
    "for x=0, dx,..., (N-1)dx."
   ]
  },
  {
   "cell_type": "code",
   "execution_count": 61,
   "metadata": {
    "deletable": false,
    "editable": false,
    "nbgrader": {
     "cell_type": "code",
     "checksum": "3b96418e8d805191fab5578bfe1d9c6c",
     "grade": false,
     "grade_id": "constants-task1",
     "locked": true,
     "schema_version": 3,
     "solution": false,
     "task": false
    }
   },
   "outputs": [
    {
     "name": "stdout",
     "output_type": "stream",
     "text": [
      "Matrix size: 800.\n"
     ]
    }
   ],
   "source": [
    "### Values for task 1\n",
    "L  = 100\n",
    "dx = 1/8\n",
    "N  = int(L/dx)\n",
    "print(f\"Matrix size: {N}.\")"
   ]
  },
  {
   "cell_type": "markdown",
   "metadata": {
    "deletable": false,
    "editable": false,
    "nbgrader": {
     "cell_type": "markdown",
     "checksum": "f0ae58bad90ae10f41964fb2483fcd7a",
     "grade": false,
     "grade_id": "section-task1-cont",
     "locked": true,
     "schema_version": 3,
     "solution": false,
     "task": false
    }
   },
   "source": [
    "In the cell below, compute the 101 lowest eigenvalues given the values of V, L, and dx from above. The function, `task1` should return an array of the eigenvalues.\n",
    "\n",
    "It may be useful to write a generalized function for creating the Hamiltonian given values of N, dx, and V."
   ]
  },
  {
   "cell_type": "code",
   "execution_count": 63,
   "metadata": {
    "deletable": false,
    "nbgrader": {
     "cell_type": "code",
     "checksum": "2a540aba8afd7cc72f9f22b65262e589",
     "grade": false,
     "grade_id": "function-task1",
     "locked": false,
     "schema_version": 3,
     "solution": true,
     "task": false
    }
   },
   "outputs": [],
   "source": [
    "def hamiltonian(dx):\n",
    "    N = int(L/dx)\n",
    "    laplace = [(-2) * np.ones(N), np.ones(N-1), np.ones(N-1)]\n",
    "    # diags function is used for converting this data structure into NxN array\n",
    "    LHS = diags(laplace, [0,-1,1]).toarray()\n",
    "    H = -1/dx**2 * LHS\n",
    "    H[0][0] = H[1][1]/2\n",
    "    H[N-1][N-1] = H[1][1]/2\n",
    "    return H\n",
    "\n",
    "def task1():\n",
    "    # hamiltonian function is used for calculating the first 101 eigenvalues\n",
    "    H = hamiltonian(dx)\n",
    "    vv, ww = eigsh(H, 101, which = \"SM\")\n",
    "    E = np.sort(np.real(vv))\n",
    "    return E"
   ]
  },
  {
   "cell_type": "markdown",
   "metadata": {
    "deletable": false,
    "editable": false,
    "nbgrader": {
     "cell_type": "markdown",
     "checksum": "a305e20dabd91962b111fda679d05c27",
     "grade": false,
     "grade_id": "section-testing-task1",
     "locked": true,
     "schema_version": 3,
     "solution": false,
     "task": false
    }
   },
   "source": [
    "## Testing task 1\n",
    "\n",
    "The cell below will run your function and compare it with the expected values."
   ]
  },
  {
   "cell_type": "code",
   "execution_count": 64,
   "metadata": {
    "deletable": false,
    "editable": false,
    "nbgrader": {
     "cell_type": "code",
     "checksum": "807d873c64673010810b7a92b3e122b0",
     "grade": true,
     "grade_id": "test-task1",
     "locked": true,
     "points": 0,
     "schema_version": 3,
     "solution": false,
     "task": false
    },
    "scrolled": true
   },
   "outputs": [
    {
     "name": "stdout",
     "output_type": "stream",
     "text": [
      "Time to solution: 0.21420741081237793 seconds.\n"
     ]
    },
    {
     "data": {
      "image/png": "[encoded data removed]",
      "text/plain": [
       "<Figure size 720x432 with 1 Axes>"
      ]
     },
     "metadata": {
      "needs_background": "light"
     },
     "output_type": "display_data"
    },
    {
     "name": "stdout",
     "output_type": "stream",
     "text": [
      "Max difference is 4.192421823934871e-12.\n"
     ]
    }
   ],
   "source": [
    "t1 = time.time()\n",
    "ww = task1()\n",
    "t2 = time.time()\n",
    "print (f\"Time to solution: {t2-t1} seconds.\")\n",
    "\n",
    "my_n = np.arange(101)\n",
    "ww_expected = 2 * (1 - np.cos(my_n*np.pi/N)) / dx**2\n",
    "\n",
    "plt.plot(my_n, ww, label='Computed', alpha=0.8)\n",
    "plt.plot(my_n, ww_expected, label='Expected', linewidth=2, linestyle='--', alpha=0.8)\n",
    "plt.xlabel(r'$n$')\n",
    "plt.ylabel(r'$w_{n}$')\n",
    "plt.legend()\n",
    "plt.show()\n",
    "\n",
    "diff = np.abs(ww - ww_expected) / np.max(np.abs([ww, ww_expected]), axis=0)\n",
    "print (f\"Max difference is {diff[1:].max()}.\")\n",
    "assert (diff[1:] < 1e-6).all()"
   ]
  },
  {
   "cell_type": "markdown",
   "metadata": {
    "deletable": false,
    "editable": false,
    "nbgrader": {
     "cell_type": "markdown",
     "checksum": "6b54b11725241c0fc135be932c0dc0bf",
     "grade": false,
     "grade_id": "section-task2",
     "locked": true,
     "schema_version": 3,
     "solution": false,
     "task": false
    }
   },
   "source": [
    "# Task 2 (5p)\n",
    "\n",
    "Select dx as a negative power of two ($dx=2^{-n}$ for n>0) such that the 101th eigenvalue differs from the dx$\\rightarrow$0 limiting value of\n",
    "\n",
    "$\n",
    "\\begin{align}\n",
    "w_{101,exact} = \\frac{(100\\pi/N)^{2}}{dx^2}\n",
    "\\end{align}\n",
    "$\n",
    "\n",
    "by less than 0.1%, i.e., $|w_{101}/w_{101,exact}-1|<0.001$.\n",
    "\n",
    "Motivation: selecting a sufficiently small dx is required to obtain a good approximation to the original (continuous) equation (1) for subsequent tasks.\n",
    "\n",
    "In the cell below, compute a value of dx that satisfies the above contraint. The function `task2` should return the value of dx that you have calculated."
   ]
  },
  {
   "cell_type": "code",
   "execution_count": 65,
   "metadata": {
    "deletable": false,
    "nbgrader": {
     "cell_type": "code",
     "checksum": "564c94d57db0859bc5bc3dd8c130330d",
     "grade": false,
     "grade_id": "function-task2",
     "locked": false,
     "schema_version": 3,
     "solution": true,
     "task": false
    }
   },
   "outputs": [],
   "source": [
    "def task2():\n",
    "    # While loop was used in order to reach the new value dx\n",
    "    du = dx\n",
    "    sol_101 = np.pi**2\n",
    "    help_no = 0\n",
    "    while(abs((help_no/sol_101) - 1) > 0.001):\n",
    "        du = du/2\n",
    "        H = hamiltonian(du)\n",
    "        vv, ww = eigsh(H, 101, which = \"SM\")\n",
    "        E = np.sort(np.real(vv))\n",
    "        help_no = E[100]\n",
    "    return du"
   ]
  },
  {
   "cell_type": "markdown",
   "metadata": {
    "deletable": false,
    "editable": false,
    "nbgrader": {
     "cell_type": "markdown",
     "checksum": "39641e91784f331101fec867e65e432a",
     "grade": false,
     "grade_id": "section-testing-task2",
     "locked": true,
     "schema_version": 3,
     "solution": false,
     "task": false
    }
   },
   "source": [
    "## Testing task 2\n",
    "\n",
    "The cell below will run the `task2` function. We will verify that value of dx return satisfies the criterion outlined above."
   ]
  },
  {
   "cell_type": "code",
   "execution_count": 66,
   "metadata": {
    "nbgrader": {
     "grade": true,
     "grade_id": "test-task2",
     "locked": true,
     "points": 0,
     "schema_version": 3,
     "solution": false,
     "task": false
    }
   },
   "outputs": [
    {
     "name": "stdout",
     "output_type": "stream",
     "text": [
      "Time to solution: 18.65436887741089 seconds.\n",
      "Diff is 0.0008029324608007649.\n"
     ]
    }
   ],
   "source": [
    "t1 = time.time()\n",
    "my_dx = task2()\n",
    "t2 = time.time()\n",
    "print (f\"Time to solution: {t2-t1} seconds.\")\n",
    "\n",
    "### BEGIN HIDDEN TESTS\n",
    "\n",
    "def create_ham(N, dx, varray=None):\n",
    "    if varray is None:\n",
    "        varray = np.zeros(N)\n",
    "\n",
    "    diagonals = [np.full((N),  -2./dx**2),\n",
    "                 np.full((N-1), 1./dx**2),\n",
    "                 np.full((N-1), 1./dx**2)]\n",
    "    diagonals[0][0]=-1./dx**2  # reflecting boundary conditions\n",
    "    diagonals[0][-1]=-1./dx**2 # reflecting boundary conditions\n",
    "    delta = diags(diagonals, [0, -1, 1])\n",
    "\n",
    "    V = diags(varray)\n",
    "    H = -delta + V\n",
    "    return H\n",
    "\n",
    "my_N = int(L/my_dx)\n",
    "\n",
    "my_ham = create_ham(my_N, my_dx)\n",
    "my_ww, my_vv = eigsh(my_ham, 101, which=\"SA\")\n",
    "\n",
    "w100_exact = (100*np.pi/my_N)**2 / my_dx**2\n",
    "my_diff = np.abs(my_ww[100]/w100_exact - 1)\n",
    "print (f\"Diff is {my_diff}.\")\n",
    "assert my_diff <= 1e-3\n",
    "\n",
    "### END HIDDEN TESTS"
   ]
  },
  {
   "cell_type": "markdown",
   "metadata": {
    "deletable": false,
    "editable": false,
    "nbgrader": {
     "cell_type": "markdown",
     "checksum": "f2e4dcb87cfbbe6722c352b2f9bc17a7",
     "grade": false,
     "grade_id": "section-task3",
     "locked": true,
     "schema_version": 3,
     "solution": false,
     "task": false
    }
   },
   "source": [
    "# Task 3 (20p)\n",
    "\n",
    "Solve equation (1) with the initial condition (2) (the Schroedinger equation and the Gaussian function from the checkpoint's description) for V(x)=0, on a domain x=0...100, for t=0...4 and dx from task 2. Plot $|\\psi(x,t)|^2$ and determine its mean given by\n",
    "\n",
    "$\n",
    "\\large\n",
    "\\begin{align}\n",
    "<x>\\ = \\int_{0}^{100} |ψ(x)|^2 x dx.\n",
    "\\end{align}\n",
    "$\n",
    "\n",
    "The mean should be equal to 79$\\pm$-1.\n",
    "\n",
    "Hint: use the procedure for creating the Hamiltonian matrix from tasks 1, 2. This will reduce the amount of coding required."
   ]
  },
  {
   "cell_type": "code",
   "execution_count": 67,
   "metadata": {
    "deletable": false,
    "editable": false,
    "nbgrader": {
     "cell_type": "code",
     "checksum": "9a9e978c8645282513b821173f09c460",
     "grade": false,
     "grade_id": "constants-task3",
     "locked": true,
     "schema_version": 3,
     "solution": false,
     "task": false
    }
   },
   "outputs": [],
   "source": [
    "### Constants for task 3 and 4\n",
    "x0     = 15\n",
    "v      = 16\n",
    "sigma2 = 5\n",
    "tmax   = 4"
   ]
  },
  {
   "cell_type": "markdown",
   "metadata": {
    "deletable": false,
    "editable": false,
    "nbgrader": {
     "cell_type": "markdown",
     "checksum": "1e27c438de19cefd35bfacb16b3d74e8",
     "grade": false,
     "grade_id": "section-plot-task3",
     "locked": true,
     "schema_version": 3,
     "solution": false,
     "task": false
    }
   },
   "source": [
    "## Task 3 plot and result\n",
    "\n",
    "In the cell(s) below, do the following:\n",
    "1. Solve equation (1) for t=0...4 and plot $|\\psi(x,t=0)|^2$ and $|\\psi(x,t=tmax)|^2$ as a function of x.\n",
    "2. Compute the mean of the final position and print the value. The correct result should be between 78 and 80.\n",
    "\n",
    "Don't forget to nomalize your Gaussian initial condition so that the total probability $\\int_0^L |\\psi(x,t=0)|^2 dx=1$. \n",
    "\n",
    "You do not have to wrap up the calculation in a function \"task3()\", but doing so may help to reduce the amount of coding for tasks 4-6."
   ]
  },
  {
   "cell_type": "code",
   "execution_count": 68,
   "metadata": {
    "deletable": false,
    "nbgrader": {
     "cell_type": "code",
     "checksum": "46aef034c85233969d2a90e3f1e102b1",
     "grade": true,
     "grade_id": "function-task3",
     "locked": false,
     "points": 0,
     "schema_version": 3,
     "solution": true,
     "task": false
    }
   },
   "outputs": [],
   "source": [
    "def wavefunction_zero(u):\n",
    "    # Rather than using task2() function again, I just overrode the value dx declared at the beginning as dx = 1/32; \n",
    "    # I did the same thing for N\n",
    "    # The initial wavefunction is calculated here\n",
    "    dx = 1/32\n",
    "    N = int(L/dx)\n",
    "    arr = np.linspace(0,L,N)\n",
    "    arr_x0 = np.ones(N) * x0\n",
    "    psi_x = np.exp(-(arr-arr_x0)**2/sigma2 + arr * u *1j/2)\n",
    "    psi_conjugate = psi_x.conjugate()\n",
    "    wavefunc = psi_x * psi_conjugate\n",
    "    # The wavefunction is normalized using Simpsons' rule\n",
    "    sum = scipy.integrate.simps(wavefunc, arr)\n",
    "    wavefunc = wavefunc/sum\n",
    "    psi_x = psi_x/np.sqrt(sum) \n",
    "    sum_x = 0\n",
    "    for i in range(N):\n",
    "        sum_x += wavefunc[i] * arr[i] * dx \n",
    "    # Both the solution to Schrodinger Eq in complex form and the wavefunction (its absolute value) are returnes\n",
    "    return psi_x, wavefunc"
   ]
  },
  {
   "cell_type": "code",
   "execution_count": 69,
   "metadata": {},
   "outputs": [],
   "source": [
    "def hamilton(dx):\n",
    "    # The function is similar to the hamiltonian, but the data type is no longer converted into an NxN array,\n",
    "    # as it can be used easier in eigh_tridiagonal function, reducing the computing time\n",
    "    N = int(L/dx)\n",
    "    main_diag = (2/(dx**2)) * np.ones(N)\n",
    "    off_diag = (-1/(dx**2)) * np.ones(N-1)\n",
    "    main_diag[0] = main_diag[1]/2\n",
    "    main_diag[N-1] = main_diag[1]/2\n",
    "    return main_diag, off_diag"
   ]
  },
  {
   "cell_type": "code",
   "execution_count": 70,
   "metadata": {},
   "outputs": [
    {
     "name": "stdout",
     "output_type": "stream",
     "text": [
      "The expected position of the wave-particle after tmax = 4s is: 78.33323790415426\n"
     ]
    },
    {
     "name": "stderr",
     "output_type": "stream",
     "text": [
      "/home/seb/miniconda3/envs/numrec/lib/python3.7/site-packages/numpy/core/_asarray.py:83: ComplexWarning: Casting complex values to real discards the imaginary part\n",
      "  return array(a, dtype, copy=False, order=order)\n",
      "/home/seb/miniconda3/envs/numrec/lib/python3.7/site-packages/numpy/core/_asarray.py:83: ComplexWarning: Casting complex values to real discards the imaginary part\n",
      "  return array(a, dtype, copy=False, order=order)\n"
     ]
    },
    {
     "data": {
      "image/png": "[encoded data removed]",
      "text/plain": [
       "<Figure size 720x432 with 1 Axes>"
      ]
     },
     "metadata": {
      "needs_background": "light"
     },
     "output_type": "display_data"
    }
   ],
   "source": [
    "def task3():\n",
    "    # Task 3 is about the wavefunction after t = 4s\n",
    "    dx = 1/32\n",
    "    N = int(L/dx)\n",
    "    arr = np.linspace(0,L,N)\n",
    "    # Initialise the wavefunction\n",
    "    psi_x, wavefunc = wavefunction_zero(v)\n",
    "    # Get the eigenvectors and eigenvalues of hamiltonian H\n",
    "    main, off = hamilton(dx)\n",
    "    evals, evecs = eigh_tridiagonal(main, off, select = 'i', select_range = (0,300))\n",
    "\n",
    "    # Update the wavefunction position and the corresponding pdf\n",
    "    a = evecs.T.dot(psi_x)\n",
    "    # plot the first smallest values, this has been done only as a sanity check\n",
    "    \"\"\"for i in np.abs(evals).argsort()[:4]:\n",
    "        plt.plot(arr, evecs[:,i])\n",
    "    plt.show()\"\"\"\n",
    "\n",
    "    u = np.zeros(N, dtype = np.complex128) \n",
    "    # The spectral method has been used \n",
    "    for i in range (evals.size):\n",
    "        u += a[i] * np.exp(evals[i] * tmax * (-1j)) * evecs[:,i]\n",
    "        \n",
    "    u_x = u * np.conjugate(u)\n",
    "    sum = scipy.integrate.simps(u_x, arr)\n",
    "    u_x = u_x/sum\n",
    "    \n",
    "    # Print the expected x-coordinate using the given formula\n",
    "    x_expected = 0\n",
    "    for i in range(N):\n",
    "        x_expected += arr[i] * u_x[i] * dx\n",
    "    print(\"The expected position of the wave-particle after tmax = 4s is: \" + str(abs(x_expected)))\n",
    "\n",
    "    plt.plot(arr, wavefunc, color = 'r', label = \"Initial wavefunction\")\n",
    "    plt.plot(arr, u * np.conjugate(u), color = 'g', label = \"Wavefunction at t=4s\")\n",
    "    plt.legend()\n",
    "    plt.xlabel(\"x-coordinate\")\n",
    "    plt.ylabel(\"Analysed wavefunction\")\n",
    "    plt.show()\n",
    "\n",
    "task3()"
   ]
  },
  {
   "cell_type": "markdown",
   "metadata": {
    "deletable": false,
    "editable": false,
    "nbgrader": {
     "cell_type": "markdown",
     "checksum": "78f9c05ab558663eee6abd74c130f534",
     "grade": false,
     "grade_id": "section-task4",
     "locked": true,
     "schema_version": 3,
     "solution": false,
     "task": false
    }
   },
   "source": [
    "# Task 4 (10p)\n",
    "\n",
    "Now repeat task 3 for a potential made up of regularly spaced wells such that\n",
    "\n",
    "V=70 for |x-i| < 0.25 where i=0,1,...,100,\n",
    "\n",
    "and V=0 elsewhere.\n",
    "\n",
    "Plot the potential. It should be $V=70$ for $x=0...0.25$, $V=0$ for $x=0.25...0.75$, $V=70$ for $x=0.75...1.25$, and so on.\n",
    "\n",
    "Determine the mean of $|\\psi(x,t)|^2$ as before, with accuracy $\\pm$1.\n",
    "\n",
    "Make sure that dx and dt are sufficiently small to achieve this accuracy!\n",
    "\n",
    "In the cell below, create the potential and plot it over the range [0, 3]."
   ]
  },
  {
   "cell_type": "code",
   "execution_count": 71,
   "metadata": {
    "deletable": false,
    "nbgrader": {
     "cell_type": "code",
     "checksum": "a2c019e4771e7c2e39134e8f9f73c1fb",
     "grade": false,
     "grade_id": "function-task4",
     "locked": false,
     "schema_version": 3,
     "solution": true,
     "task": false
    }
   },
   "outputs": [],
   "source": [
    "# This function is used for plotting the wavefunction with the potential wells\n",
    "def hamiltonian_VPot(dx):\n",
    "    N = int(L/dx)\n",
    "    main_diag = (2/(dx**2)) * np.ones(N)\n",
    "    off_diag = (-1/(dx**2)) * np.ones(N-1)\n",
    "    main_diag[0] = main_diag[1]/2\n",
    "    main_diag[N-1] = main_diag[1]/2\n",
    "    for i in range(N):\n",
    "        if(i % 32 < 9 or i % 32 > 25):\n",
    "            main_diag[i] += 70\n",
    "    return main_diag, off_diag"
   ]
  },
  {
   "cell_type": "code",
   "execution_count": 72,
   "metadata": {},
   "outputs": [
    {
     "data": {
      "image/png": "[encoded data removed]",
      "text/plain": [
       "<Figure size 720x432 with 1 Axes>"
      ]
     },
     "metadata": {
      "needs_background": "light"
     },
     "output_type": "display_data"
    }
   ],
   "source": [
    "def plot_potential():\n",
    "    # The potential wells are plotted in the interval [0,3]\n",
    "    L = 3\n",
    "    dx = 1/8\n",
    "    N = int(L/dx)\n",
    "    V = np.zeros(N)\n",
    "    arr = np.linspace(0,L,N)\n",
    "    \"\"\"dx = 1/32       \n",
    "    for i in range(N):\n",
    "        if(i % 32 > 8):\n",
    "            V[i] += 70\"\"\"\n",
    "    for i in range(N):\n",
    "        if(i % 8 < 2 or i % 8 > 5):\n",
    "            V[i] += 70\n",
    "    plt.plot(arr, V)\n",
    "    plt.xlabel(\"x-coordinate\")\n",
    "    plt.ylabel(\"potential well\")\n",
    "    plt.show()\n",
    "    \n",
    "plot_potential()"
   ]
  },
  {
   "cell_type": "markdown",
   "metadata": {
    "deletable": false,
    "editable": false,
    "nbgrader": {
     "cell_type": "markdown",
     "checksum": "a677f62e1ff93e1705edb79f9ffda1c5",
     "grade": false,
     "grade_id": "section-task4-cont",
     "locked": true,
     "schema_version": 3,
     "solution": false,
     "task": false
    }
   },
   "source": [
    "# Task 4 continued\n",
    "\n",
    "In the cell below, repeat task 3 with the new potential."
   ]
  },
  {
   "cell_type": "code",
   "execution_count": 75,
   "metadata": {
    "deletable": false,
    "nbgrader": {
     "cell_type": "code",
     "checksum": "2d5de27a32e1e00fc6b5b0ac93f2fc64",
     "grade": false,
     "grade_id": "answer-task4",
     "locked": false,
     "schema_version": 3,
     "solution": true,
     "task": false
    }
   },
   "outputs": [
    {
     "name": "stderr",
     "output_type": "stream",
     "text": [
      "/home/seb/miniconda3/envs/numrec/lib/python3.7/site-packages/numpy/core/_asarray.py:83: ComplexWarning: Casting complex values to real discards the imaginary part\n",
      "  return array(a, dtype, copy=False, order=order)\n",
      "/home/seb/miniconda3/envs/numrec/lib/python3.7/site-packages/numpy/core/_asarray.py:83: ComplexWarning: Casting complex values to real discards the imaginary part\n",
      "  return array(a, dtype, copy=False, order=order)\n"
     ]
    },
    {
     "data": {
      "image/png": "[encoded data removed]",
      "text/plain": [
       "<Figure size 720x432 with 1 Axes>"
      ]
     },
     "metadata": {
      "needs_background": "light"
     },
     "output_type": "display_data"
    }
   ],
   "source": [
    "# The wavefunction is plotted with the potential wells this time\n",
    "def task4():\n",
    "    \n",
    "    dx = 1/32\n",
    "    N = int(L/dx)\n",
    "    arr = np.linspace(0,L,N)\n",
    "    # Initialise the wavefunction\n",
    "    psi_x, wavefunc = wavefunction_zero(v)\n",
    "    # Get the eigenvectors and eigenvalues of hamiltonian H\n",
    "    \"\"\"H = hamiltonian_V(dx)\n",
    "    evals, evecs = eigsh(H, 550, which = \"SM\")\"\"\"\n",
    "    main, off = hamiltonian_VPot(dx)\n",
    "    evals, evecs = eigh_tridiagonal(main, off, select = 'i', select_range = (0,300))\n",
    "\n",
    "    # Update the wavefunction position and the corresponding pdf\n",
    "    a = evecs.T.dot(psi_x)\n",
    "    # plot the first smallest values, exercise done as sanity check\n",
    "    \"\"\"for i in np.abs(evals).argsort()[:4]:\n",
    "        plt.plot(arr, evecs[:,i])\n",
    "    plt.show()\"\"\"\n",
    "    # Spectral method is used again\n",
    "    u = np.zeros(N, dtype = np.complex128) \n",
    "\n",
    "    for i in range (evals.size):\n",
    "        u += a[i] * np.exp(evals[i] * tmax * (-1j)) * evecs[:,i]\n",
    "\n",
    "    plt.plot(arr, wavefunc, color = 'r', label = \"Wavefunction at time t=0\")\n",
    "    plt.plot(arr, u * np.conjugate(u), color = 'g', label = \"Wavefunction at time t=4\")\n",
    "    plt.legend()\n",
    "    plt.xlabel(\"x-coordinate\")\n",
    "    plt.ylabel(\"Analysed wavefunction with potential wells\")\n",
    "    plt.show()\n",
    "    \n",
    "task4()"
   ]
  },
  {
   "cell_type": "markdown",
   "metadata": {
    "deletable": false,
    "editable": false,
    "nbgrader": {
     "cell_type": "markdown",
     "checksum": "6132662c54c849e9968cb221ea16659f",
     "grade": false,
     "grade_id": "section-task5",
     "locked": true,
     "schema_version": 3,
     "solution": false,
     "task": false
    }
   },
   "source": [
    "# Task 5 (15p)\n",
    "\n",
    "Calculate the probability $P_{1/2}$ of the particle moving through the point x=L/2 by integrating the probability current \n",
    "\n",
    "$\n",
    "\\large\n",
    "\\begin{align}\n",
    "j = (\\psi^*  \\frac{\\partial \\psi}{\\partial x} -\n",
    "\\psi \\frac{\\partial \\psi^*}{\\partial x})(x=L/2)\n",
    "\\end{align}\n",
    "$\n",
    "\n",
    "over time, for t=0...4. The probability can deviate from the true value by no more than $\\pm$0.01 (hint: the correct value is between 0.5 and 1).\n",
    "\n",
    "In the cell below, calculate the probability and print your answer."
   ]
  },
  {
   "cell_type": "code",
   "execution_count": 78,
   "metadata": {
    "deletable": false,
    "nbgrader": {
     "cell_type": "code",
     "checksum": "69036dbb6598c88ed2c686173d93177a",
     "grade": false,
     "grade_id": "function-task5",
     "locked": false,
     "schema_version": 3,
     "solution": true,
     "task": false
    }
   },
   "outputs": [
    {
     "name": "stdout",
     "output_type": "stream",
     "text": [
      "Probability of the particle being detected at x=L/2 is: 0.8009307631913735\n"
     ]
    }
   ],
   "source": [
    "# This cell deals with the probability current\n",
    "dx = 1/32\n",
    "N = int(L/dx)\n",
    "main, off = hamiltonian_VPot(dx)\n",
    "evals, evecs = eigh_tridiagonal(main, off, select = 'i', select_range = (0,1000))\n",
    "\n",
    "def find_probability(u, a=evals, b=evecs):\n",
    "\n",
    "    dx = 1/32\n",
    "    N = int(L/dx)\n",
    "    dt = dx\n",
    "    t = 0\n",
    "    prob = []\n",
    "    time = []\n",
    "    \n",
    "    psi_x, wavefunc = wavefunction_zero(u)\n",
    "    a = evecs.T.dot(psi_x)\n",
    "\n",
    "    while(t < tmax):\n",
    "        u0 = 0\n",
    "        u0_dx = 0\n",
    "        t += dt\n",
    "        # Calculate the wavefunction at the middle after a given time t\n",
    "        for i in range (evals.size):\n",
    "            u0 += a[i] * np.exp(evals[i] * t * (-1j)) * evecs[int(N/2) - 1,i]\n",
    "            u0_dx += a[i] * np.exp(evals[i] * t * (-1j)) * evecs[int(N/2),i]\n",
    "        \n",
    "        # The variables below stand for the formula for probability current\n",
    "        d_u0 = (u0_dx - u0) / dx\n",
    "        u0_conj = np.conjugate(u0)\n",
    "        u0_dx_conj = np.conjugate(u0_dx)\n",
    "        d_u0_conj = (u0_dx_conj - u0_conj) / dx\n",
    "        prob.append(abs((u0_conj * d_u0 - u0 * d_u0_conj) * (-1j)))\n",
    "        time.append(t)\n",
    "        \n",
    "    s = scipy.integrate.simps(prob, time) \n",
    "    return s\n",
    "\n",
    "print(\"Probability of the particle being detected at x=L/2 is: \" + str(find_probability(v)) )"
   ]
  },
  {
   "cell_type": "markdown",
   "metadata": {
    "deletable": false,
    "editable": false,
    "nbgrader": {
     "cell_type": "markdown",
     "checksum": "a5704cc71928fbf5402f80cfa8e06bb6",
     "grade": false,
     "grade_id": "section-task6",
     "locked": true,
     "schema_version": 3,
     "solution": false,
     "task": false
    }
   },
   "source": [
    "# Task 6 (15p)\n",
    "\n",
    "Plot the probability $P_{1/2}$ as a function of particle energy E=0...100, for at least 100 equally-spaced values from this range. All $P_{1/2}$ values should be within $\\pm$0.01 of the true values. Use the formula \n",
    "\n",
    "$\n",
    "\\large\n",
    "\\begin{align}\n",
    "E = \\frac{1}{4} v^2\n",
    "\\end{align}\n",
    "$\n",
    "\n",
    "to convert between energy and velocity (valid for Eqs. (1,2)).\n",
    "\n",
    "Bonus question: can you explain why the plot looks like this?\n",
    "\n",
    "Plot the probability in the cell below."
   ]
  },
  {
   "cell_type": "code",
   "execution_count": 79,
   "metadata": {
    "deletable": false,
    "nbgrader": {
     "cell_type": "code",
     "checksum": "34248862ebaaf5a028b3f562b2fe6efc",
     "grade": false,
     "grade_id": "function-task6",
     "locked": false,
     "schema_version": 3,
     "solution": true,
     "task": false
    }
   },
   "outputs": [
    {
     "data": {
      "image/png": "[encoded data removed]",
      "text/plain": [
       "<Figure size 720x432 with 1 Axes>"
      ]
     },
     "metadata": {
      "needs_background": "light"
     },
     "output_type": "display_data"
    }
   ],
   "source": [
    "# Probability plotted as function of the energy \n",
    "def prob_speed():\n",
    "    \n",
    "    vel = np.linspace(0,20,100)\n",
    "    prob = np.zeros(100)\n",
    "    for i in range(len(vel)):\n",
    "        prob[i] = find_probability(vel[i])\n",
    "        vel[i] = 0.25 * vel[i]**2\n",
    "    plt.plot(vel, prob)\n",
    "    plt.xlabel(\"Energy of the particle\")\n",
    "    plt.ylabel(\"Probability of the particle being detected at x = L/2\")\n",
    "    plt.show()\n",
    "\n",
    "prob_speed()"
   ]
  },
  {
   "cell_type": "markdown",
   "metadata": {
    "deletable": false,
    "editable": false,
    "nbgrader": {
     "cell_type": "markdown",
     "checksum": "395d9446d8ecec601bd2616f5aa01114",
     "grade": false,
     "grade_id": "section-task7",
     "locked": true,
     "schema_version": 3,
     "solution": false,
     "task": false
    }
   },
   "source": [
    "# Task 7 (10p)\n",
    "\n",
    "Assume again the initial condition of equation (2) with v=16, and consider a disordered potential in which\n",
    "\n",
    "V=70 for |x-i| < b$_i$ where i=0,1,...,100,\n",
    "\n",
    "and b$_i$ is a random variable uniformly distributed on [0.125, 0.375].\n",
    "\n",
    "Find the probability $P_{1/2}$ by averaging over 100 realizations of the random potential (must be accurate to $\\pm$0.02). Plot the histogram of $P_{1/2}$. Comment on the value of $P_{1/2}$ compared with task 5."
   ]
  },
  {
   "cell_type": "code",
   "execution_count": 80,
   "metadata": {
    "deletable": false,
    "nbgrader": {
     "cell_type": "code",
     "checksum": "546417409ea0cf71ede0771b17aec4ca",
     "grade": false,
     "grade_id": "function-task7",
     "locked": false,
     "schema_version": 3,
     "solution": true,
     "task": false
    }
   },
   "outputs": [],
   "source": [
    "# This is function for potential wells, a more generalized one\n",
    "dx = 1/32\n",
    "N = int(L/dx)\n",
    "arr = np.linspace(0,L,N)\n",
    "\n",
    "def H_V(p):\n",
    "\n",
    "    main_diag = (2/(dx**2)) * np.ones(N)\n",
    "    off_diag = (-1/(dx**2)) * np.ones(N-1)\n",
    "    main_diag[0] = main_diag[1]/2\n",
    "    main_diag[N-1] = main_diag[1]/2\n",
    "    for i in range(N):\n",
    "        if( (i*dx - int(i*dx) < p) or (i*dx - int(i*dx) > (1-p)) ):\n",
    "            main_diag[i] += 70\n",
    "    return main_diag, off_diag"
   ]
  },
  {
   "cell_type": "code",
   "execution_count": 81,
   "metadata": {
    "deletable": false,
    "nbgrader": {
     "cell_type": "code",
     "checksum": "6bd69d5861aa9544b04e3873d9ae0379",
     "grade": false,
     "grade_id": "answer-task7",
     "locked": false,
     "schema_version": 3,
     "solution": true,
     "task": false
    }
   },
   "outputs": [
    {
     "name": "stdout",
     "output_type": "stream",
     "text": [
      "0.839927429035335\n"
     ]
    }
   ],
   "source": [
    "# For each random generated b_i value, I calculated the overall probability of the particle passing through x = L/2\n",
    "# I took all the probabilities and divided them by 100 - I calculated the mean probability\n",
    "\n",
    "s = 0\n",
    "for i in range(100):\n",
    "    \n",
    "    potV = np.random.uniform(0.125, 0.375)\n",
    "    main, off = H_V(potV)\n",
    "    evals, evecs = eigh_tridiagonal(main, off, select = 'i', select_range = (0,500))\n",
    "    \n",
    "    s += find_probability(v, evals, evecs)\n",
    "\n",
    "s = s/100\n",
    "print(s)"
   ]
  },
  {
   "cell_type": "code",
   "execution_count": null,
   "metadata": {},
   "outputs": [],
   "source": []
  }
 ],
 "metadata": {
  "kernelspec": {
   "display_name": "Python 3",
   "language": "python",
   "name": "python3"
  },
  "language_info": {
   "codemirror_mode": {
    "name": "ipython",
    "version": 3
   },
   "file_extension": ".py",
   "mimetype": "text/x-python",
   "name": "python",
   "nbconvert_exporter": "python",
   "pygments_lexer": "ipython3",
   "version": "3.7.6"
  }
 },
 "nbformat": 4,
 "nbformat_minor": 4
}
